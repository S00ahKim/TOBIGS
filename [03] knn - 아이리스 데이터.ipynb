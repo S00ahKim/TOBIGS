{
 "cells": [
  {
   "cell_type": "markdown",
   "metadata": {},
   "source": [
    "데이터 설명: https://www.kaggle.com/uciml/iris\n",
    "StandardScaler: https://scikit-learn.org/stable/modules/generated/sklearn.preprocessing.StandardScaler.html"
   ]
  },
  {
   "cell_type": "code",
   "execution_count": 1,
   "metadata": {},
   "outputs": [],
   "source": [
    "import numpy as np\n",
    "import pandas as pd\n",
    "from sklearn.datasets import load_iris\n",
    "from sklearn.model_selection import train_test_split \n",
    "from sklearn.neighbors import KNeighborsClassifier\n",
    "import math"
   ]
  },
  {
   "cell_type": "code",
   "execution_count": 22,
   "metadata": {},
   "outputs": [],
   "source": [
    "iris = load_iris()"
   ]
  },
  {
   "cell_type": "code",
   "execution_count": 23,
   "metadata": {},
   "outputs": [],
   "source": [
    "#iris.data -> features, iris.target -> labels\n",
    "X = iris.data\n",
    "y = iris.target"
   ]
  },
  {
   "cell_type": "code",
   "execution_count": 39,
   "metadata": {},
   "outputs": [],
   "source": [
    "# split into test and train dataset, and use random_state=48\n",
    "X_train, X_test, y_train, y_test = train_test_split(X, y, test_size = 0.3, random_state=50)"
   ]
  },
  {
   "cell_type": "code",
   "execution_count": 25,
   "metadata": {},
   "outputs": [],
   "source": [
    "from sklearn.preprocessing import StandardScaler"
   ]
  },
  {
   "cell_type": "code",
   "execution_count": 40,
   "metadata": {},
   "outputs": [],
   "source": [
    "ss = StandardScaler() #Standardize features by removing the mean and scaling to unit variance\n",
    "\n",
    "X_train=ss.fit_transform(X_train)\n",
    "X_test=ss.transform(X_test)"
   ]
  },
  {
   "cell_type": "code",
   "execution_count": 41,
   "metadata": {},
   "outputs": [],
   "source": [
    "trainSet=np.column_stack((X_train, y_train))\n",
    "testSet=np.column_stack((X_test, y_test))"
   ]
  },
  {
   "cell_type": "code",
   "execution_count": 42,
   "metadata": {},
   "outputs": [
    {
     "data": {
      "text/plain": [
       "array([[-0.27340169, -0.19650869,  0.22079092,  0.15623102,  1.        ],\n",
       "       [ 0.59651278, -1.35568919,  0.67872763,  0.42081581,  1.        ],\n",
       "       [-0.52194868,  0.7308357 , -1.15301923, -1.29898533,  0.        ],\n",
       "       [-0.52194868,  1.8900162 , -1.38198759, -1.03440054,  0.        ],\n",
       "       [ 0.84505977, -0.19650869,  0.8504539 ,  1.08227779,  2.        ],\n",
       "       [ 1.09360677,  0.03532741,  1.07942226,  1.61144737,  2.        ],\n",
       "       [-0.1491282 , -1.35568919,  0.73596972,  1.08227779,  2.        ],\n",
       "       [-0.89476917,  0.4989996 , -1.15301923, -0.90210814,  0.        ],\n",
       "       [-1.26758966, -0.19650869, -1.3247455 , -1.43127773,  0.        ],\n",
       "       [ 0.47223929, -2.05119749,  0.44975928,  0.42081581,  1.        ],\n",
       "       [-0.89476917,  0.7308357 , -1.26750341, -1.29898533,  0.        ],\n",
       "       [ 1.96352124, -0.66018089,  1.36563271,  0.94998539,  2.        ],\n",
       "       [-1.14331617,  0.03532741, -1.26750341, -1.29898533,  0.        ],\n",
       "       [ 1.21788026, -0.19650869,  1.02218017,  1.21457018,  2.        ],\n",
       "       [-0.1491282 , -0.66018089,  0.44975928,  0.15623102,  1.        ],\n",
       "       [-1.01904267, -0.19650869, -1.21026132, -1.29898533,  0.        ],\n",
       "       [-0.0248547 , -0.89201699,  0.10630674,  0.02393862,  1.        ],\n",
       "       [-0.64622218,  1.426344  , -1.26750341, -1.29898533,  0.        ],\n",
       "       [-0.39767519, -1.58752529, -0.00817744, -0.24064617,  1.        ],\n",
       "       [ 1.09360677, -0.19650869,  0.73596972,  0.6854006 ,  1.        ],\n",
       "       [ 0.59651278,  0.4989996 ,  1.30839062,  1.74373976,  2.        ],\n",
       "       [-0.39767519, -1.58752529,  0.04906465, -0.10835377,  1.        ],\n",
       "       [-0.0248547 ,  2.1218523 , -1.43922968, -1.29898533,  0.        ],\n",
       "       [ 2.58488872,  1.6581801 ,  1.53735898,  1.08227779,  2.        ],\n",
       "       [ 1.09360677,  0.03532741,  0.56424346,  0.42081581,  1.        ],\n",
       "       [ 2.33634173, -1.12385309,  1.82356943,  1.47915497,  2.        ],\n",
       "       [ 0.59651278,  0.4989996 ,  0.56424346,  0.55310821,  1.        ],\n",
       "       [ 0.84505977, -0.66018089,  0.50700137,  0.42081581,  1.        ],\n",
       "       [ 0.47223929, -0.42834479,  0.3352751 ,  0.15623102,  1.        ],\n",
       "       [ 1.21788026,  0.2671635 ,  1.25114853,  1.47915497,  2.        ],\n",
       "       [ 1.71497425,  0.2671635 ,  1.30839062,  0.817693  ,  2.        ],\n",
       "       [-0.89476917, -1.35568919, -0.40887207, -0.10835377,  1.        ],\n",
       "       [ 0.34796579, -0.66018089,  0.56424346,  0.02393862,  1.        ],\n",
       "       [ 1.09360677,  0.4989996 ,  1.13666435,  1.74373976,  2.        ],\n",
       "       [-0.89476917,  1.426344  , -1.26750341, -1.03440054,  0.        ],\n",
       "       [-1.51613665,  0.03532741, -1.26750341, -1.29898533,  0.        ],\n",
       "       [-0.77049568, -0.89201699,  0.10630674,  0.28852341,  1.        ],\n",
       "       [ 0.22369229, -2.05119749,  0.73596972,  0.42081581,  2.        ],\n",
       "       [-0.52194868, -0.19650869,  0.44975928,  0.42081581,  1.        ],\n",
       "       [-1.01904267,  0.7308357 , -1.26750341, -1.29898533,  0.        ],\n",
       "       [-1.64041015, -1.81936139, -1.38198759, -1.16669293,  0.        ],\n",
       "       [-1.14331617, -1.58752529, -0.2371458 , -0.24064617,  1.        ],\n",
       "       [ 0.84505977, -0.19650869,  1.19390644,  1.34686258,  2.        ],\n",
       "       [-1.76468365, -0.42834479, -1.3247455 , -1.29898533,  0.        ],\n",
       "       [ 1.59070075, -0.19650869,  1.25114853,  1.21457018,  2.        ]])"
      ]
     },
     "execution_count": 42,
     "metadata": {},
     "output_type": "execute_result"
    }
   ],
   "source": [
    "testSet"
   ]
  },
  {
   "cell_type": "markdown",
   "metadata": {},
   "source": [
    "### KNN Classifier Implementation\n",
    "\n",
    "k개의 가장 가까운 사례를 사용하여 수치 예측 및 분류 수행"
   ]
  },
  {
   "cell_type": "code",
   "execution_count": 43,
   "metadata": {},
   "outputs": [],
   "source": [
    "# 데이터 인스턴스 간 유사성을 계산함. \n",
    "def getDistance(p, instance1, instance2):\n",
    "    distance = 0\n",
    "    length = len(instance1)-1 # 맨 끝은 label\n",
    "    \n",
    "    # p=1 : return Manhattan Distance\n",
    "    if p==1:\n",
    "        for x in range(length):\n",
    "            distance += abs(float(instance1[x]) - float(instance2[x]))\n",
    "        \n",
    "    # p=2 : return Eucludean Distance\n",
    "    elif p==2:\n",
    "        for x in range(length):\n",
    "            distance += (float(instance1[x]) - float(instance2[x]))**2\n",
    "        distance = math.sqrt(distance)\n",
    "    \n",
    "    return distance"
   ]
  },
  {
   "cell_type": "code",
   "execution_count": 44,
   "metadata": {},
   "outputs": [],
   "source": [
    "import operator\n",
    "\n",
    "# 주어진 testInstance에 대한 trainSet로부터 가장 유사한 neighbors를 k 개 반환\n",
    "\n",
    "def getNeighbors(p, trainSet, testInstance, k):\n",
    "    distances = []\n",
    "    \n",
    "    # p=1 : return Manhattan Distance\n",
    "    if p==1:\n",
    "        for x in range(len(trainSet)):\n",
    "            distance = getDistance(1, testInstance, trainSet[x])\n",
    "            distances.append((trainSet[x], distance))\n",
    "        \n",
    "    # p=2 : return Eucludean Distance\n",
    "    elif p==2:\n",
    "        for x in range(len(trainSet)):\n",
    "            distance = getDistance(2, testInstance, trainSet[x])\n",
    "            distances.append((trainSet[x], distance))\n",
    "            \n",
    "    distances.sort(key=operator.itemgetter(1))\n",
    "    neighbors = []\n",
    "    for x in range(k):\n",
    "        neighbors.append(distances[x][0])\n",
    "        \n",
    "    return neighbors"
   ]
  },
  {
   "cell_type": "code",
   "execution_count": 45,
   "metadata": {},
   "outputs": [],
   "source": [
    "# 생성된 neighbors 기반으로 response를 예측하고, 다수결을 알려준다.\n",
    "\n",
    "def getResponse(neighbors):\n",
    "    classVotes = {}\n",
    "    for x in range(len(neighbors)):\n",
    "        response = neighbors[x][-1]\n",
    "        if response in classVotes:\n",
    "            classVotes[response] += 1\n",
    "        else:\n",
    "            classVotes[response] = 1\n",
    "    sortedVotes = sorted(classVotes.items(), key=operator.itemgetter(1), reverse=True)\n",
    "    vote = sortedVotes[0][0]\n",
    "    return vote"
   ]
  },
  {
   "cell_type": "code",
   "execution_count": 46,
   "metadata": {},
   "outputs": [],
   "source": [
    "def getAccuracy(testSet, predictions):\n",
    "    correct = 0\n",
    "    for x in range(len(testSet)):\n",
    "        if testSet[x][-1] == predictions[x]:\n",
    "            correct += 1\n",
    "    accuracy_score = correct/float(len(testSet)) * 100.0\n",
    "    return accuracy_score"
   ]
  },
  {
   "cell_type": "code",
   "execution_count": 47,
   "metadata": {},
   "outputs": [],
   "source": [
    "k = 3\n",
    "p = 2 # Euclidean distance"
   ]
  },
  {
   "cell_type": "code",
   "execution_count": 48,
   "metadata": {},
   "outputs": [
    {
     "name": "stdout",
     "output_type": "stream",
     "text": [
      "0 > predicted : 1.0, actual : 1.0\n",
      "1 > predicted : 2.0, actual : 1.0\n",
      "2 > predicted : 0.0, actual : 0.0\n",
      "3 > predicted : 0.0, actual : 0.0\n",
      "4 > predicted : 2.0, actual : 2.0\n",
      "5 > predicted : 2.0, actual : 2.0\n",
      "6 > predicted : 2.0, actual : 2.0\n",
      "7 > predicted : 0.0, actual : 0.0\n",
      "8 > predicted : 0.0, actual : 0.0\n",
      "9 > predicted : 1.0, actual : 1.0\n",
      "10 > predicted : 0.0, actual : 0.0\n",
      "11 > predicted : 2.0, actual : 2.0\n",
      "12 > predicted : 0.0, actual : 0.0\n",
      "13 > predicted : 2.0, actual : 2.0\n",
      "14 > predicted : 1.0, actual : 1.0\n",
      "15 > predicted : 0.0, actual : 0.0\n",
      "16 > predicted : 1.0, actual : 1.0\n",
      "17 > predicted : 0.0, actual : 0.0\n",
      "18 > predicted : 1.0, actual : 1.0\n",
      "19 > predicted : 1.0, actual : 1.0\n",
      "20 > predicted : 2.0, actual : 2.0\n",
      "21 > predicted : 1.0, actual : 1.0\n",
      "22 > predicted : 0.0, actual : 0.0\n",
      "23 > predicted : 2.0, actual : 2.0\n",
      "24 > predicted : 1.0, actual : 1.0\n",
      "25 > predicted : 2.0, actual : 2.0\n",
      "26 > predicted : 1.0, actual : 1.0\n",
      "27 > predicted : 1.0, actual : 1.0\n",
      "28 > predicted : 1.0, actual : 1.0\n",
      "29 > predicted : 2.0, actual : 2.0\n",
      "30 > predicted : 2.0, actual : 2.0\n",
      "31 > predicted : 1.0, actual : 1.0\n",
      "32 > predicted : 1.0, actual : 1.0\n",
      "33 > predicted : 2.0, actual : 2.0\n",
      "34 > predicted : 0.0, actual : 0.0\n",
      "35 > predicted : 0.0, actual : 0.0\n",
      "36 > predicted : 1.0, actual : 1.0\n",
      "37 > predicted : 1.0, actual : 2.0\n",
      "38 > predicted : 1.0, actual : 1.0\n",
      "39 > predicted : 0.0, actual : 0.0\n",
      "40 > predicted : 0.0, actual : 0.0\n",
      "41 > predicted : 1.0, actual : 1.0\n",
      "42 > predicted : 2.0, actual : 2.0\n",
      "43 > predicted : 0.0, actual : 0.0\n",
      "44 > predicted : 2.0, actual : 2.0\n"
     ]
    }
   ],
   "source": [
    "predictions=[]\n",
    "\n",
    "for i in range(len(testSet)):\n",
    "    neighbors = getNeighbors(p, trainSet, testSet[i], k)\n",
    "    result = getResponse(neighbors)\n",
    "    predictions.append(result)\n",
    "    print(str(i) + ' > predicted : ' + str(result) + ', actual : ' + str(testSet[i][-1]))"
   ]
  },
  {
   "cell_type": "code",
   "execution_count": 49,
   "metadata": {},
   "outputs": [
    {
     "name": "stdout",
     "output_type": "stream",
     "text": [
      "Accuracy: 95.55555555555556%\n"
     ]
    }
   ],
   "source": [
    "accuracy = getAccuracy(testSet, predictions)\n",
    "print('Accuracy: ' + str(accuracy) + '%')"
   ]
  }
 ],
 "metadata": {
  "kernelspec": {
   "display_name": "Python 3",
   "language": "python",
   "name": "python3"
  },
  "language_info": {
   "codemirror_mode": {
    "name": "ipython",
    "version": 3
   },
   "file_extension": ".py",
   "mimetype": "text/x-python",
   "name": "python",
   "nbconvert_exporter": "python",
   "pygments_lexer": "ipython3",
   "version": "3.7.1"
  }
 },
 "nbformat": 4,
 "nbformat_minor": 2
}
