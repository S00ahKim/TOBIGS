{
 "cells": [
  {
   "cell_type": "markdown",
   "metadata": {},
   "source": [
    "# 앙상블"
   ]
  },
  {
   "cell_type": "markdown",
   "metadata": {},
   "source": [
    "## 1. Voting"
   ]
  },
  {
   "cell_type": "code",
   "execution_count": 1,
   "metadata": {},
   "outputs": [],
   "source": [
    "import os\n",
    "import pickle\n",
    "import numpy as np\n",
    "#os.chdir(\"현재 경로\")"
   ]
  },
  {
   "cell_type": "code",
   "execution_count": 4,
   "metadata": {},
   "outputs": [],
   "source": [
    "X = np.load(\"./tatanic_X_train.npy\")\n",
    "y = np.load(\"./tatanic_y_train.npy\")"
   ]
  },
  {
   "cell_type": "code",
   "execution_count": 6,
   "metadata": {},
   "outputs": [
    {
     "data": {
      "text/plain": [
       "((889, 27), (889,))"
      ]
     },
     "execution_count": 6,
     "metadata": {},
     "output_type": "execute_result"
    }
   ],
   "source": [
    "X.shape, y.shape"
   ]
  },
  {
   "cell_type": "code",
   "execution_count": 7,
   "metadata": {},
   "outputs": [],
   "source": [
    "from sklearn.linear_model import LogisticRegression\n",
    "from sklearn.tree import DecisionTreeClassifier\n",
    "from sklearn.naive_bayes import GaussianNB\n",
    "from sklearn.ensemble import VotingClassifier"
   ]
  },
  {
   "cell_type": "code",
   "execution_count": 8,
   "metadata": {},
   "outputs": [],
   "source": [
    "from warnings import filterwarnings\n",
    "filterwarnings('ignore')"
   ]
  },
  {
   "cell_type": "code",
   "execution_count": 9,
   "metadata": {},
   "outputs": [],
   "source": [
    "clf1 = LogisticRegression(random_state=1)\n",
    "clf2 = DecisionTreeClassifier(random_state=1)\n",
    "clf3 = GaussianNB()\n",
    "eclf = VotingClassifier(estimators=[('lr', clf1), ('rf', clf2), ('gnb', clf3)], voting='hard')\n",
    "# 묶어줌, (이름지정, 모델), 하드보팅은 다수결, 소프트보팅은 각 모델마다 가중치를 달리"
   ]
  },
  {
   "cell_type": "code",
   "execution_count": 10,
   "metadata": {},
   "outputs": [
    {
     "data": {
      "text/plain": [
       "0.8009268075922046"
      ]
     },
     "execution_count": 10,
     "metadata": {},
     "output_type": "execute_result"
    }
   ],
   "source": [
    "from sklearn.model_selection import cross_val_score\n",
    "cross_val_score(eclf, X, y, cv=5).mean() #바닐라앙상블 평균 정확도 약 80"
   ]
  },
  {
   "cell_type": "code",
   "execution_count": 11,
   "metadata": {},
   "outputs": [
    {
     "data": {
      "text/plain": [
       "0.8290420872214816"
      ]
     },
     "execution_count": 11,
     "metadata": {},
     "output_type": "execute_result"
    }
   ],
   "source": [
    "cross_val_score(clf1, X, y, cv=5).mean() #로지스틱 성능"
   ]
  },
  {
   "cell_type": "code",
   "execution_count": 12,
   "metadata": {},
   "outputs": [
    {
     "data": {
      "text/plain": [
       "0.7829175395162826"
      ]
     },
     "execution_count": 12,
     "metadata": {},
     "output_type": "execute_result"
    }
   ],
   "source": [
    "cross_val_score(clf2, X, y, cv=5).mean() #의사결정트리 성능"
   ]
  },
  {
   "cell_type": "code",
   "execution_count": 13,
   "metadata": {},
   "outputs": [
    {
     "data": {
      "text/plain": [
       "0.4600139655938551"
      ]
     },
     "execution_count": 13,
     "metadata": {},
     "output_type": "execute_result"
    }
   ],
   "source": [
    "cross_val_score(clf3, X, y, cv=5).mean() #나이브베이즈 성능 (안 좋음! 제외)"
   ]
  },
  {
   "cell_type": "code",
   "execution_count": 14,
   "metadata": {},
   "outputs": [],
   "source": [
    "clf1 = LogisticRegression(random_state=1)\n",
    "clf2 = DecisionTreeClassifier(random_state=1)\n",
    "eclf = VotingClassifier(estimators=[('lr', clf1), ('dt', clf2)], voting='hard')\n",
    "# 두 개만 넣으면 동표가 나올 경우 랜덤으로 처리함. 그러니 홀수개를 넣는 것이 좋음"
   ]
  },
  {
   "cell_type": "code",
   "execution_count": 15,
   "metadata": {},
   "outputs": [
    {
     "data": {
      "text/plain": [
       "0.8222687742017394"
      ]
     },
     "execution_count": 15,
     "metadata": {},
     "output_type": "execute_result"
    }
   ],
   "source": [
    "cross_val_score(eclf, X, y, cv=5).mean() #성능 향상"
   ]
  },
  {
   "cell_type": "markdown",
   "metadata": {},
   "source": [
    "## 2. Bagging"
   ]
  },
  {
   "cell_type": "code",
   "execution_count": 1,
   "metadata": {},
   "outputs": [],
   "source": [
    "import warnings\n",
    "warnings.filterwarnings('ignore')\n",
    "import numpy as np\n",
    "from sklearn.tree import DecisionTreeClassifier\n",
    "from sklearn.ensemble import BaggingClassifier"
   ]
  },
  {
   "cell_type": "code",
   "execution_count": 3,
   "metadata": {},
   "outputs": [],
   "source": [
    "X = np.load(\"./tatanic_X_train.npy\")\n",
    "y = np.load(\"./tatanic_y_train.npy\")"
   ]
  },
  {
   "cell_type": "code",
   "execution_count": 4,
   "metadata": {},
   "outputs": [],
   "source": [
    "clf2 = DecisionTreeClassifier(random_state=1) #하이 베리언스 모델 사용\n",
    "eclf = BaggingClassifier(clf2, oob_score=True) #동일모델만 사용, 기본으로 10개의 bag"
   ]
  },
  {
   "cell_type": "code",
   "execution_count": 5,
   "metadata": {},
   "outputs": [
    {
     "data": {
      "text/plain": [
       "0.8178124801625086"
      ]
     },
     "execution_count": 5,
     "metadata": {},
     "output_type": "execute_result"
    }
   ],
   "source": [
    "from sklearn.model_selection import cross_val_score\n",
    "cross_val_score(eclf, X, y, cv=5).mean()"
   ]
  },
  {
   "cell_type": "code",
   "execution_count": 6,
   "metadata": {},
   "outputs": [],
   "source": [
    "# 하이퍼파라미터 서치 (DT의 파라미터 바꿔가면서 시도하기)\n",
    "params ={\n",
    "    \"n_estimators\" : [10,20,30,40,50,55], #bag 몇개 구성?\n",
    "    \"max_samples\" : [0.5,0.6,0.7,0.8,0.9,1]} #DT에서 얼마나 샘플이 있을때 진행하느냐"
   ]
  },
  {
   "cell_type": "code",
   "execution_count": 7,
   "metadata": {},
   "outputs": [],
   "source": [
    "from sklearn.model_selection import GridSearchCV\n",
    "grid = GridSearchCV(estimator=eclf, param_grid=params, cv=5, n_jobs=-1)\n",
    "grid = grid.fit(X, y)"
   ]
  },
  {
   "cell_type": "code",
   "execution_count": 8,
   "metadata": {},
   "outputs": [
    {
     "data": {
      "text/plain": [
       "0.8301462317210349"
      ]
     },
     "execution_count": 8,
     "metadata": {},
     "output_type": "execute_result"
    }
   ],
   "source": [
    "grid.best_score_"
   ]
  },
  {
   "cell_type": "code",
   "execution_count": 9,
   "metadata": {},
   "outputs": [
    {
     "data": {
      "text/plain": [
       "{'max_samples': 0.6, 'n_estimators': 50}"
      ]
     },
     "execution_count": 9,
     "metadata": {},
     "output_type": "execute_result"
    }
   ],
   "source": [
    "grid.best_params_"
   ]
  },
  {
   "cell_type": "code",
   "execution_count": 10,
   "metadata": {},
   "outputs": [
    {
     "data": {
      "text/plain": [
       "0.8278965129358831"
      ]
     },
     "execution_count": 10,
     "metadata": {},
     "output_type": "execute_result"
    }
   ],
   "source": [
    "grid.best_estimator_.oob_score_\n",
    "# 학습하지 않은 데이터에 대해서도 이정도의 성능을 보인다."
   ]
  },
  {
   "cell_type": "markdown",
   "metadata": {},
   "source": [
    "## 3. Random Forest"
   ]
  },
  {
   "cell_type": "code",
   "execution_count": 11,
   "metadata": {},
   "outputs": [],
   "source": [
    "import warnings\n",
    "warnings.filterwarnings('ignore')\n",
    "import numpy as np"
   ]
  },
  {
   "cell_type": "code",
   "execution_count": 12,
   "metadata": {},
   "outputs": [],
   "source": [
    "X = np.load(\"./tatanic_X_train.npy\")\n",
    "y = np.load(\"./tatanic_y_train.npy\")"
   ]
  },
  {
   "cell_type": "code",
   "execution_count": 13,
   "metadata": {},
   "outputs": [],
   "source": [
    "from sklearn.ensemble import RandomForestClassifier\n",
    "eclf = RandomForestClassifier(n_estimators=100, #DT100개 만든다\n",
    "                              max_features=2,  #셀렉션되는 피처 수\n",
    "                              n_jobs=-1, oob_score=True)"
   ]
  },
  {
   "cell_type": "code",
   "execution_count": 14,
   "metadata": {},
   "outputs": [
    {
     "data": {
      "text/plain": [
       "0.79871770456421"
      ]
     },
     "execution_count": 14,
     "metadata": {},
     "output_type": "execute_result"
    }
   ],
   "source": [
    "from sklearn.model_selection import cross_val_score\n",
    "cross_val_score(eclf, X, y, cv=5).mean()"
   ]
  },
  {
   "cell_type": "code",
   "execution_count": 15,
   "metadata": {},
   "outputs": [],
   "source": [
    "params ={\n",
    "    \"n_estimators\" : [10, 20, 30, 50, 100],\n",
    "    \"max_features\" : [1,2,3,4,5,6,7, 10, 15, 20, 25, len(X[0])]\n",
    "    }"
   ]
  },
  {
   "cell_type": "code",
   "execution_count": 16,
   "metadata": {},
   "outputs": [],
   "source": [
    "from sklearn.model_selection import GridSearchCV\n",
    "grid = GridSearchCV(estimator=eclf, param_grid=params, cv=5, n_jobs=-1)\n",
    "grid = grid.fit(X, y)"
   ]
  },
  {
   "cell_type": "code",
   "execution_count": 17,
   "metadata": {},
   "outputs": [
    {
     "data": {
      "text/plain": [
       "0.8245219347581553"
      ]
     },
     "execution_count": 17,
     "metadata": {},
     "output_type": "execute_result"
    }
   ],
   "source": [
    "grid.best_score_"
   ]
  },
  {
   "cell_type": "code",
   "execution_count": 18,
   "metadata": {},
   "outputs": [
    {
     "data": {
      "text/plain": [
       "{'max_features': 27, 'n_estimators': 100}"
      ]
     },
     "execution_count": 18,
     "metadata": {},
     "output_type": "execute_result"
    }
   ],
   "source": [
    "grid.best_params_"
   ]
  },
  {
   "cell_type": "code",
   "execution_count": 19,
   "metadata": {},
   "outputs": [
    {
     "data": {
      "text/plain": [
       "0.8245219347581553"
      ]
     },
     "execution_count": 19,
     "metadata": {},
     "output_type": "execute_result"
    }
   ],
   "source": [
    "grid.best_estimator_.oob_score_"
   ]
  },
  {
   "cell_type": "code",
   "execution_count": 20,
   "metadata": {},
   "outputs": [
    {
     "data": {
      "text/plain": [
       "array([2.03614769e-01, 2.24030782e-01, 1.77339082e-02, 8.33351280e-02,\n",
       "       1.39919809e-01, 4.29137561e-02, 1.27756638e-02, 9.19597576e-03,\n",
       "       6.48661312e-03, 1.23305410e-02, 1.98488422e-03, 9.94209319e-04,\n",
       "       2.86890676e-03, 8.86547444e-03, 6.51408383e-03, 1.73166777e-01,\n",
       "       4.20260917e-03, 9.19529744e-03, 1.27207608e-02, 2.10983104e-03,\n",
       "       4.60084202e-03, 6.50431901e-03, 5.14488150e-03, 7.35814835e-03,\n",
       "       4.92488024e-04, 9.09212779e-04, 3.03281807e-05])"
      ]
     },
     "execution_count": 20,
     "metadata": {},
     "output_type": "execute_result"
    }
   ],
   "source": [
    "grid.best_estimator_.feature_importances_"
   ]
  },
  {
   "cell_type": "code",
   "execution_count": 21,
   "metadata": {},
   "outputs": [
    {
     "data": {
      "text/plain": [
       "array([ 1,  0, 15,  4,  3,  5,  2,  6, 18,  9,  7, 17, 13, 23, 14, 21,  8,\n",
       "       22, 20, 16, 12, 19, 10, 11, 25, 24, 26], dtype=int64)"
      ]
     },
     "execution_count": 21,
     "metadata": {},
     "output_type": "execute_result"
    }
   ],
   "source": [
    "np.argsort(grid.best_estimator_.feature_importances_)[::-1] #중요도 높은 변수 index"
   ]
  },
  {
   "cell_type": "code",
   "execution_count": 22,
   "metadata": {},
   "outputs": [
    {
     "name": "stdout",
     "output_type": "stream",
     "text": [
      "Scores for X0, X1, X2: [0.17054065 0.28118646 0.54827289]\n"
     ]
    }
   ],
   "source": [
    "from sklearn.ensemble import RandomForestRegressor\n",
    "\n",
    "size = 10000\n",
    "np.random.seed(seed=20)\n",
    "X_seed = np.random.normal(0, 1, size)\n",
    "X0 = X_seed + np.random.normal(0, .1, size)\n",
    "X1 = X_seed + np.random.normal(0, .1, size)\n",
    "X2 = X_seed + np.random.normal(0, .1, size)\n",
    "X = np.array([X0, X1, X2]).T\n",
    "Y = X0 + X1 + X2\n",
    "  \n",
    "rf = RandomForestRegressor(n_estimators=20, max_features=2)\n",
    "rf.fit(X, Y);\n",
    "print(\"Scores for X0, X1, X2:\",rf.feature_importances_) \n",
    "# 시드 다를 때마다 중요도 바뀜\n",
    "# 그래서 피처 간 상관관계를 고려해주는 것이 좋다."
   ]
  },
  {
   "cell_type": "markdown",
   "metadata": {},
   "source": [
    "## 4. AdaBoost"
   ]
  },
  {
   "cell_type": "code",
   "execution_count": 23,
   "metadata": {},
   "outputs": [
    {
     "name": "stdout",
     "output_type": "stream",
     "text": [
      "['three' 'two' 'two' 'two' 'three' 'three' 'three' 'two' 'three' 'two']\n"
     ]
    }
   ],
   "source": [
    "elements = ['one', 'two', 'three'] \n",
    "weights = [0.2, 0.3, 0.5]\n",
    "\n",
    "from numpy.random import choice\n",
    "print(choice(elements, size=10, replace=True, p=weights))"
   ]
  },
  {
   "cell_type": "code",
   "execution_count": 24,
   "metadata": {},
   "outputs": [],
   "source": [
    "X = np.load(\"./tatanic_X_train.npy\")\n",
    "y = np.load(\"./tatanic_y_train.npy\")"
   ]
  },
  {
   "cell_type": "code",
   "execution_count": 25,
   "metadata": {},
   "outputs": [],
   "source": [
    "from sklearn.ensemble import AdaBoostClassifier\n",
    "from sklearn.tree import DecisionTreeClassifier\n",
    "\n",
    "eclf = AdaBoostClassifier(base_estimator=DecisionTreeClassifier(max_depth=2), #stump\n",
    "                          n_estimators=500, \n",
    "                          learning_rate=0.1)"
   ]
  },
  {
   "cell_type": "code",
   "execution_count": 26,
   "metadata": {},
   "outputs": [
    {
     "data": {
      "text/plain": [
       "0.8166507966736495"
      ]
     },
     "execution_count": 26,
     "metadata": {},
     "output_type": "execute_result"
    }
   ],
   "source": [
    "from sklearn.model_selection import cross_val_score\n",
    "cross_val_score(eclf, X, y, cv=5).mean() #독립적 진행이 아니라 다소 느림"
   ]
  },
  {
   "cell_type": "code",
   "execution_count": 27,
   "metadata": {},
   "outputs": [
    {
     "data": {
      "text/plain": [
       "DecisionTreeClassifier(class_weight=None, criterion='gini', max_depth=None,\n",
       "            max_features=None, max_leaf_nodes=None,\n",
       "            min_impurity_decrease=0.0, min_impurity_split=None,\n",
       "            min_samples_leaf=1, min_samples_split=2,\n",
       "            min_weight_fraction_leaf=0.0, presort=False, random_state=None,\n",
       "            splitter='best')"
      ]
     },
     "execution_count": 27,
     "metadata": {},
     "output_type": "execute_result"
    }
   ],
   "source": [
    "from sklearn.tree import DecisionTreeClassifier\n",
    "DecisionTreeClassifier()"
   ]
  },
  {
   "cell_type": "code",
   "execution_count": 28,
   "metadata": {},
   "outputs": [
    {
     "data": {
      "text/plain": [
       "AdaBoostClassifier(algorithm='SAMME.R', base_estimator=None,\n",
       "          learning_rate=1.0, n_estimators=50, random_state=None)"
      ]
     },
     "execution_count": 28,
     "metadata": {},
     "output_type": "execute_result"
    }
   ],
   "source": [
    "AdaBoostClassifier()"
   ]
  },
  {
   "cell_type": "code",
   "execution_count": 29,
   "metadata": {},
   "outputs": [],
   "source": [
    "params = {\"base_estimator__criterion\" : [\"gini\", \"entropy\"],\n",
    "          \"base_estimator__max_features\" : [7,8],\n",
    "          \"base_estimator__max_depth\" : [1,2],\n",
    "          \"n_estimators\": [23,24, 25, 26, 27]}"
   ]
  },
  {
   "cell_type": "code",
   "execution_count": 30,
   "metadata": {},
   "outputs": [],
   "source": [
    "from sklearn.model_selection import GridSearchCV\n",
    "grid = GridSearchCV(estimator=eclf, param_grid=params, cv=5, n_jobs=-1)\n",
    "grid = grid.fit(X, y)"
   ]
  },
  {
   "cell_type": "code",
   "execution_count": 31,
   "metadata": {},
   "outputs": [
    {
     "data": {
      "text/plain": [
       "0.8245219347581553"
      ]
     },
     "execution_count": 31,
     "metadata": {},
     "output_type": "execute_result"
    }
   ],
   "source": [
    "grid.best_score_"
   ]
  },
  {
   "cell_type": "code",
   "execution_count": 32,
   "metadata": {},
   "outputs": [
    {
     "data": {
      "text/plain": [
       "{'base_estimator__criterion': 'gini',\n",
       " 'base_estimator__max_depth': 2,\n",
       " 'base_estimator__max_features': 8,\n",
       " 'n_estimators': 26}"
      ]
     },
     "execution_count": 32,
     "metadata": {},
     "output_type": "execute_result"
    }
   ],
   "source": [
    "grid.best_params_"
   ]
  },
  {
   "cell_type": "code",
   "execution_count": 33,
   "metadata": {},
   "outputs": [
    {
     "data": {
      "text/plain": [
       "array([0.08823664, 0.06996377, 0.00498134, 0.11422635, 0.19776761,\n",
       "       0.05139278, 0.01670012, 0.03217644, 0.        , 0.00656069,\n",
       "       0.        , 0.        , 0.        , 0.01520929, 0.02009994,\n",
       "       0.27719737, 0.02854368, 0.00365942, 0.03799339, 0.        ,\n",
       "       0.0049063 , 0.        , 0.02123222, 0.00915265, 0.        ,\n",
       "       0.        , 0.        ])"
      ]
     },
     "execution_count": 33,
     "metadata": {},
     "output_type": "execute_result"
    }
   ],
   "source": [
    "grid.best_estimator_.feature_importances_"
   ]
  },
  {
   "cell_type": "markdown",
   "metadata": {},
   "source": [
    "## 5. Gradient Boosting"
   ]
  },
  {
   "cell_type": "code",
   "execution_count": 34,
   "metadata": {},
   "outputs": [],
   "source": [
    "X = np.load(\"./tatanic_X_train.npy\")\n",
    "y = np.load(\"./tatanic_y_train.npy\")"
   ]
  },
  {
   "cell_type": "code",
   "execution_count": 35,
   "metadata": {},
   "outputs": [],
   "source": [
    "from sklearn.ensemble import GradientBoostingClassifier"
   ]
  },
  {
   "cell_type": "code",
   "execution_count": 36,
   "metadata": {},
   "outputs": [],
   "source": [
    "eclf = GradientBoostingClassifier(n_estimators=100, learning_rate=0.1)\n",
    "                                    # 라운드        트리의 영향력"
   ]
  },
  {
   "cell_type": "code",
   "execution_count": 37,
   "metadata": {},
   "outputs": [
    {
     "data": {
      "text/plain": [
       "0.8245730971878371"
      ]
     },
     "execution_count": 37,
     "metadata": {},
     "output_type": "execute_result"
    }
   ],
   "source": [
    "from sklearn.model_selection import cross_val_score\n",
    "cross_val_score(eclf, X, y, cv=5).mean()"
   ]
  },
  {
   "cell_type": "code",
   "execution_count": 38,
   "metadata": {},
   "outputs": [],
   "source": [
    "params ={\n",
    "    \"n_estimators\" : [10, 20, 30, 50, 100, 200],\n",
    "    \"learning_rate\" : [i for i in np.linspace(0.1,1, 10)]}"
   ]
  },
  {
   "cell_type": "code",
   "execution_count": 39,
   "metadata": {},
   "outputs": [],
   "source": [
    "from sklearn.model_selection import GridSearchCV\n",
    "grid = GridSearchCV(estimator=eclf, param_grid=params, cv=5, n_jobs=-1)\n",
    "grid = grid.fit(X, y)"
   ]
  },
  {
   "cell_type": "code",
   "execution_count": 40,
   "metadata": {},
   "outputs": [
    {
     "data": {
      "text/plain": [
       "0.8447694038245219"
      ]
     },
     "execution_count": 40,
     "metadata": {},
     "output_type": "execute_result"
    }
   ],
   "source": [
    "grid.best_score_"
   ]
  },
  {
   "cell_type": "code",
   "execution_count": 41,
   "metadata": {},
   "outputs": [
    {
     "data": {
      "text/plain": [
       "{'learning_rate': 0.4, 'n_estimators': 50}"
      ]
     },
     "execution_count": 41,
     "metadata": {},
     "output_type": "execute_result"
    }
   ],
   "source": [
    "grid.best_params_"
   ]
  },
  {
   "cell_type": "markdown",
   "metadata": {},
   "source": [
    "## 6. XgBoost와 LightGBM"
   ]
  },
  {
   "cell_type": "code",
   "execution_count": 42,
   "metadata": {},
   "outputs": [],
   "source": [
    "import warnings\n",
    "warnings.filterwarnings('ignore')\n",
    "import numpy as np\n",
    "import numpy as np\n",
    "import xgboost as xgb"
   ]
  },
  {
   "cell_type": "code",
   "execution_count": 43,
   "metadata": {},
   "outputs": [],
   "source": [
    "X = np.load(\"./tatanic_X_train.npy\")\n",
    "y = np.load(\"./tatanic_y_train.npy\")"
   ]
  },
  {
   "cell_type": "code",
   "execution_count": 44,
   "metadata": {},
   "outputs": [],
   "source": [
    "from sklearn.model_selection import train_test_split"
   ]
  },
  {
   "cell_type": "code",
   "execution_count": 45,
   "metadata": {},
   "outputs": [],
   "source": [
    "X_train, X_test, y_train, y_test = train_test_split(X, y, test_size =0.3)"
   ]
  },
  {
   "cell_type": "code",
   "execution_count": 46,
   "metadata": {},
   "outputs": [],
   "source": [
    "from xgboost import XGBClassifier\n",
    "\n",
    "model = XGBClassifier(n_estimators=1000, max_depth=2, learning_rate=0.5, nthread=7)\n",
    "model.fit(X_train, y_train)\n",
    "y_pred = model.predict(X_test)"
   ]
  },
  {
   "cell_type": "code",
   "execution_count": 47,
   "metadata": {},
   "outputs": [
    {
     "data": {
      "text/plain": [
       "0.7940074906367042"
      ]
     },
     "execution_count": 47,
     "metadata": {},
     "output_type": "execute_result"
    }
   ],
   "source": [
    "from sklearn.metrics import accuracy_score\n",
    "\n",
    "accuracy_score(y_test, y_pred)"
   ]
  },
  {
   "cell_type": "code",
   "execution_count": 48,
   "metadata": {},
   "outputs": [],
   "source": [
    "dtrain = xgb.DMatrix(X_train, label=y_train)\n",
    "dtest = xgb.DMatrix(X_test, label=y_test)"
   ]
  },
  {
   "cell_type": "code",
   "execution_count": 49,
   "metadata": {},
   "outputs": [],
   "source": [
    "param = {'max_depth': 2, 'eta': 0.5, 'silent': 1, 'objective': 'binary:logistic'}\n",
    "param['nthread'] = 7\n",
    "param['eval_metric'] = 'auc'\n",
    "evallist = [(dtest, 'eval'), (dtrain, 'train')]\n",
    "plst = param.items()"
   ]
  },
  {
   "cell_type": "code",
   "execution_count": 50,
   "metadata": {},
   "outputs": [
    {
     "name": "stdout",
     "output_type": "stream",
     "text": [
      "[0]\teval-auc:0.814416\ttrain-auc:0.852186\n",
      "[1]\teval-auc:0.823913\ttrain-auc:0.859748\n",
      "[2]\teval-auc:0.831093\ttrain-auc:0.866258\n",
      "[3]\teval-auc:0.83258\ttrain-auc:0.869812\n",
      "[4]\teval-auc:0.839216\ttrain-auc:0.882698\n",
      "[5]\teval-auc:0.841762\ttrain-auc:0.886599\n",
      "[6]\teval-auc:0.845652\ttrain-auc:0.890451\n",
      "[7]\teval-auc:0.849228\ttrain-auc:0.895908\n",
      "[8]\teval-auc:0.853776\ttrain-auc:0.898774\n",
      "[9]\teval-auc:0.85083\ttrain-auc:0.901539\n",
      "[10]\teval-auc:0.84611\ttrain-auc:0.903247\n",
      "[11]\teval-auc:0.846939\ttrain-auc:0.904282\n",
      "[12]\teval-auc:0.848741\ttrain-auc:0.905911\n",
      "[13]\teval-auc:0.844966\ttrain-auc:0.907551\n",
      "[14]\teval-auc:0.841676\ttrain-auc:0.912236\n",
      "[15]\teval-auc:0.843364\ttrain-auc:0.914145\n",
      "[16]\teval-auc:0.848198\ttrain-auc:0.916479\n",
      "[17]\teval-auc:0.848455\ttrain-auc:0.916821\n",
      "[18]\teval-auc:0.851487\ttrain-auc:0.918505\n",
      "[19]\teval-auc:0.850858\ttrain-auc:0.919457\n",
      "[20]\teval-auc:0.85369\ttrain-auc:0.920957\n",
      "[21]\teval-auc:0.854462\ttrain-auc:0.921724\n",
      "[22]\teval-auc:0.853547\ttrain-auc:0.922474\n",
      "[23]\teval-auc:0.853318\ttrain-auc:0.922245\n",
      "[24]\teval-auc:0.85226\ttrain-auc:0.922586\n",
      "[25]\teval-auc:0.854777\ttrain-auc:0.92206\n",
      "[26]\teval-auc:0.856836\ttrain-auc:0.92337\n",
      "[27]\teval-auc:0.85409\ttrain-auc:0.924075\n",
      "[28]\teval-auc:0.854548\ttrain-auc:0.924915\n",
      "[29]\teval-auc:0.853118\ttrain-auc:0.925486\n",
      "[30]\teval-auc:0.851802\ttrain-auc:0.925877\n",
      "[31]\teval-auc:0.852031\ttrain-auc:0.92581\n",
      "[32]\teval-auc:0.851344\ttrain-auc:0.927165\n",
      "[33]\teval-auc:0.8502\ttrain-auc:0.928559\n",
      "[34]\teval-auc:0.845995\ttrain-auc:0.929768\n",
      "[35]\teval-auc:0.847082\ttrain-auc:0.929812\n",
      "[36]\teval-auc:0.848255\ttrain-auc:0.931626\n",
      "[37]\teval-auc:0.851058\ttrain-auc:0.933093\n",
      "[38]\teval-auc:0.850515\ttrain-auc:0.934291\n",
      "[39]\teval-auc:0.851316\ttrain-auc:0.934749\n",
      "[40]\teval-auc:0.852431\ttrain-auc:0.937537\n",
      "[41]\teval-auc:0.853347\ttrain-auc:0.937313\n",
      "[42]\teval-auc:0.853833\ttrain-auc:0.937923\n",
      "[43]\teval-auc:0.855406\ttrain-auc:0.938007\n",
      "[44]\teval-auc:0.851859\ttrain-auc:0.939871\n",
      "[45]\teval-auc:0.852574\ttrain-auc:0.940649\n",
      "[46]\teval-auc:0.852803\ttrain-auc:0.941187\n",
      "[47]\teval-auc:0.85246\ttrain-auc:0.940744\n",
      "[48]\teval-auc:0.852803\ttrain-auc:0.940812\n",
      "[49]\teval-auc:0.853947\ttrain-auc:0.942245\n"
     ]
    }
   ],
   "source": [
    "num_round = 50\n",
    "bst = xgb.train(plst, dtrain, num_round, evallist)"
   ]
  },
  {
   "cell_type": "code",
   "execution_count": 51,
   "metadata": {},
   "outputs": [],
   "source": [
    "ypred = bst.predict(dtest, ntree_limit=bst.best_ntree_limit)"
   ]
  },
  {
   "cell_type": "code",
   "execution_count": 52,
   "metadata": {},
   "outputs": [
    {
     "data": {
      "text/plain": [
       "0.797752808988764"
      ]
     },
     "execution_count": 52,
     "metadata": {},
     "output_type": "execute_result"
    }
   ],
   "source": [
    "(sum((ypred>0.5) == y_test)) / 267.0"
   ]
  },
  {
   "cell_type": "code",
   "execution_count": 53,
   "metadata": {},
   "outputs": [],
   "source": [
    "from sklearn.metrics import mean_squared_error\n",
    "from sklearn.model_selection import GridSearchCV\n",
    "import numpy as np"
   ]
  },
  {
   "cell_type": "code",
   "execution_count": 54,
   "metadata": {},
   "outputs": [],
   "source": [
    "X = np.load(\"./tatanic_X_train.npy\")\n",
    "y = np.load(\"./tatanic_y_train.npy\")"
   ]
  },
  {
   "cell_type": "code",
   "execution_count": 55,
   "metadata": {},
   "outputs": [],
   "source": [
    "X_train, X_test, y_train, y_test = train_test_split(X, y, test_size=0.3)"
   ]
  },
  {
   "cell_type": "code",
   "execution_count": 56,
   "metadata": {},
   "outputs": [
    {
     "name": "stdout",
     "output_type": "stream",
     "text": [
      "Best parameters found by grid search are: {'learning_rate': 0.5, 'n_estimators': 80}\n"
     ]
    }
   ],
   "source": [
    "import lightgbm as lgb\n",
    "\n",
    "estimator = lgb.LGBMClassifier(num_leaves=2)\n",
    "\n",
    "param_grid = {\n",
    "    'learning_rate': [0.01, 0.1, 0.05, 0.5, 1],\n",
    "    'n_estimators': [20, 40, 60, 80, 100, 120]\n",
    "}\n",
    "\n",
    "gbm = GridSearchCV(estimator, param_grid, cv=5, scoring='roc_auc')\n",
    "\n",
    "gbm.fit(X, y)\n",
    "\n",
    "print('Best parameters found by grid search are:', gbm.best_params_)"
   ]
  },
  {
   "cell_type": "code",
   "execution_count": 57,
   "metadata": {},
   "outputs": [
    {
     "data": {
      "text/plain": [
       "0.8426966292134831"
      ]
     },
     "execution_count": 57,
     "metadata": {},
     "output_type": "execute_result"
    }
   ],
   "source": [
    "sum(gbm.best_estimator_.predict(X_test) == y_test) / (len(y_test)*1.0)"
   ]
  },
  {
   "cell_type": "code",
   "execution_count": 58,
   "metadata": {},
   "outputs": [
    {
     "data": {
      "text/plain": [
       "0.8426966292134831"
      ]
     },
     "execution_count": 58,
     "metadata": {},
     "output_type": "execute_result"
    }
   ],
   "source": [
    "sum(\n",
    "    (gbm.best_estimator_.predict_proba(X_test)[:,1]> 0.51 ) == y_test) / (len(y_test)*1.0)"
   ]
  },
  {
   "cell_type": "code",
   "execution_count": 59,
   "metadata": {},
   "outputs": [],
   "source": [
    "from xgboost.sklearn import XGBClassifier\n",
    "estimator = XGBClassifier()"
   ]
  },
  {
   "cell_type": "code",
   "execution_count": 60,
   "metadata": {},
   "outputs": [],
   "source": [
    "parameters = {'nthread':[4], #when use hyperthread, xgboost may become slower\n",
    "              'objective':['binary:logistic'],\n",
    "              'learning_rate': [0.05], #so called `eta` value\n",
    "              'max_depth': [6],\n",
    "              'min_child_weight': [11],\n",
    "              'silent': [1],\n",
    "              'subsample': [0.8],\n",
    "              'colsample_bytree': [0.7],\n",
    "              'n_estimators': [5], #number of trees, change it to 1000 for better results\n",
    "              'missing':[-999],\n",
    "              'seed': [1337]}"
   ]
  },
  {
   "cell_type": "code",
   "execution_count": 61,
   "metadata": {},
   "outputs": [
    {
     "name": "stdout",
     "output_type": "stream",
     "text": [
      "Fitting 5 folds for each of 1 candidates, totalling 5 fits\n"
     ]
    },
    {
     "name": "stderr",
     "output_type": "stream",
     "text": [
      "[Parallel(n_jobs=5)]: Using backend LokyBackend with 5 concurrent workers.\n",
      "[Parallel(n_jobs=5)]: Done   2 out of   5 | elapsed:    6.2s remaining:    9.3s\n"
     ]
    },
    {
     "name": "stdout",
     "output_type": "stream",
     "text": [
      "Best parameters found by grid search are: {'learning_rate': 0.5, 'n_estimators': 80}\n"
     ]
    },
    {
     "name": "stderr",
     "output_type": "stream",
     "text": [
      "[Parallel(n_jobs=5)]: Done   5 out of   5 | elapsed:    6.5s remaining:    0.0s\n",
      "[Parallel(n_jobs=5)]: Done   5 out of   5 | elapsed:    6.5s finished\n"
     ]
    }
   ],
   "source": [
    "clf = GridSearchCV(estimator, parameters, n_jobs=5, \n",
    "                   cv=5, \n",
    "                   scoring='roc_auc',\n",
    "                   verbose=2, refit=True)\n",
    "\n",
    "clf.fit(X, y)\n",
    "print('Best parameters found by grid search are:', gbm.best_params_)"
   ]
  },
  {
   "cell_type": "code",
   "execution_count": 62,
   "metadata": {},
   "outputs": [
    {
     "data": {
      "text/plain": [
       "0.8164794007490637"
      ]
     },
     "execution_count": 62,
     "metadata": {},
     "output_type": "execute_result"
    }
   ],
   "source": [
    "sum(clf.best_estimator_.predict(X_test) == y_test) / (len(y_test)*1.0)"
   ]
  },
  {
   "cell_type": "code",
   "execution_count": 63,
   "metadata": {},
   "outputs": [
    {
     "data": {
      "text/plain": [
       "0.8089887640449438"
      ]
     },
     "execution_count": 63,
     "metadata": {},
     "output_type": "execute_result"
    }
   ],
   "source": [
    "sum(\n",
    "    (clf.best_estimator_.predict_proba(X_test)[:,1]> 0.51 ) == y_test) / (len(y_test)*1.0)"
   ]
  },
  {
   "cell_type": "markdown",
   "metadata": {},
   "source": [
    "## 7. Stacking"
   ]
  },
  {
   "cell_type": "code",
   "execution_count": 64,
   "metadata": {},
   "outputs": [],
   "source": [
    "import warnings\n",
    "warnings.filterwarnings('ignore')"
   ]
  },
  {
   "cell_type": "code",
   "execution_count": 65,
   "metadata": {},
   "outputs": [],
   "source": [
    "import numpy as np\n",
    "import pandas as pd"
   ]
  },
  {
   "cell_type": "code",
   "execution_count": 66,
   "metadata": {},
   "outputs": [],
   "source": [
    "from xgboost import XGBClassifier\n",
    "from lightgbm.sklearn import LGBMClassifier\n",
    "from sklearn.ensemble import RandomForestClassifier\n",
    "from sklearn.svm import SVC\n",
    "from sklearn.neural_network import MLPClassifier"
   ]
  },
  {
   "cell_type": "code",
   "execution_count": 67,
   "metadata": {},
   "outputs": [],
   "source": [
    "X = np.load(\"./tatanic_X_train.npy\")\n",
    "y = np.load(\"./tatanic_y_train.npy\")"
   ]
  },
  {
   "cell_type": "code",
   "execution_count": 68,
   "metadata": {},
   "outputs": [],
   "source": [
    "estimator1 = XGBClassifier(max_depth=3, learning_rate=0.5, n_estimators=50, n_jobs=-1)\n",
    "estimator2 = LGBMClassifier(max_depth=2, learning_rate=0.5, n_estimators=50, n_jobs=-1)\n",
    "estimator3 = RandomForestClassifier(n_estimators=500, max_depth=3, n_jobs=-1)\n",
    "estimator4 = SVC(probability=True)\n",
    "estimator5 = MLPClassifier(hidden_layer_sizes=(512,256, 32))"
   ]
  },
  {
   "cell_type": "code",
   "execution_count": 69,
   "metadata": {},
   "outputs": [],
   "source": [
    "base_estimators = [estimator1, estimator2, estimator3, estimator4, estimator5]"
   ]
  },
  {
   "cell_type": "code",
   "execution_count": 70,
   "metadata": {},
   "outputs": [],
   "source": [
    "from sklearn.model_selection import train_test_split"
   ]
  },
  {
   "cell_type": "code",
   "execution_count": 71,
   "metadata": {},
   "outputs": [
    {
     "data": {
      "text/plain": [
       "((533, 27), (356, 27), (533,), (356,))"
      ]
     },
     "execution_count": 71,
     "metadata": {},
     "output_type": "execute_result"
    }
   ],
   "source": [
    "X_train, X_test, y_train, y_test = train_test_split(X, y, test_size=0.4)\n",
    "\n",
    "X_train.shape, X_test.shape, y_train.shape, y_test.shape"
   ]
  },
  {
   "cell_type": "code",
   "execution_count": 72,
   "metadata": {},
   "outputs": [],
   "source": [
    "for estimator in base_estimators:\n",
    "            estimator.fit(X_train, y_train)"
   ]
  },
  {
   "cell_type": "code",
   "execution_count": 73,
   "metadata": {},
   "outputs": [
    {
     "data": {
      "text/plain": [
       "array([[0.7332586 , 0.26674142],\n",
       "       [0.09970379, 0.9002962 ],\n",
       "       [0.00542223, 0.99457777],\n",
       "       [0.04766387, 0.95233613],\n",
       "       [0.61546797, 0.38453203],\n",
       "       [0.88515174, 0.11484823],\n",
       "       [0.9131147 , 0.08688527],\n",
       "       [0.9196682 , 0.0803318 ],\n",
       "       [0.36566865, 0.63433135],\n",
       "       [0.7058456 , 0.29415444],\n",
       "       [0.90497655, 0.09502345],\n",
       "       [0.17381036, 0.82618964],\n",
       "       [0.01251376, 0.98748624],\n",
       "       [0.9415602 , 0.05843977],\n",
       "       [0.9306256 , 0.0693744 ],\n",
       "       [0.9549551 , 0.0450449 ],\n",
       "       [0.00204998, 0.99795   ],\n",
       "       [0.0696857 , 0.9303143 ],\n",
       "       [0.03375584, 0.96624416],\n",
       "       [0.6803266 , 0.31967342],\n",
       "       [0.8671905 , 0.1328095 ],\n",
       "       [0.91664433, 0.0833557 ],\n",
       "       [0.8277751 , 0.17222488],\n",
       "       [0.7332586 , 0.26674142],\n",
       "       [0.7206651 , 0.2793349 ],\n",
       "       [0.12987584, 0.87012416],\n",
       "       [0.05774438, 0.9422556 ],\n",
       "       [0.9606347 , 0.03936527],\n",
       "       [0.8714287 , 0.12857129],\n",
       "       [0.97934896, 0.02065103],\n",
       "       [0.03220755, 0.96779245],\n",
       "       [0.04533339, 0.9546666 ],\n",
       "       [0.43515277, 0.56484723],\n",
       "       [0.8841401 , 0.11585991],\n",
       "       [0.9810947 , 0.01890531],\n",
       "       [0.03484678, 0.9651532 ],\n",
       "       [0.7174859 , 0.28251413],\n",
       "       [0.9306256 , 0.0693744 ],\n",
       "       [0.29903436, 0.70096564],\n",
       "       [0.00715053, 0.99284947],\n",
       "       [0.9529661 , 0.0470339 ],\n",
       "       [0.5823519 , 0.41764808],\n",
       "       [0.6624943 , 0.3375057 ],\n",
       "       [0.7066755 , 0.29332447],\n",
       "       [0.85678256, 0.14321741],\n",
       "       [0.08249909, 0.9175009 ],\n",
       "       [0.813258  , 0.18674202],\n",
       "       [0.40771717, 0.59228283],\n",
       "       [0.90497655, 0.09502345],\n",
       "       [0.6777538 , 0.32224616],\n",
       "       [0.32063168, 0.6793683 ],\n",
       "       [0.9283667 , 0.0716333 ],\n",
       "       [0.9811725 , 0.0188275 ],\n",
       "       [0.04291791, 0.9570821 ],\n",
       "       [0.9066366 , 0.09336338],\n",
       "       [0.9722458 , 0.02775418],\n",
       "       [0.94141924, 0.05858073],\n",
       "       [0.6952164 , 0.30478355],\n",
       "       [0.00566936, 0.99433064],\n",
       "       [0.5387174 , 0.46128258],\n",
       "       [0.9560213 , 0.04397871],\n",
       "       [0.95531464, 0.04468535],\n",
       "       [0.06913668, 0.9308633 ],\n",
       "       [0.9562037 , 0.04379629],\n",
       "       [0.8076602 , 0.1923398 ],\n",
       "       [0.56879884, 0.43120116],\n",
       "       [0.90085727, 0.09914272],\n",
       "       [0.8904357 , 0.10956432],\n",
       "       [0.01925445, 0.98074555],\n",
       "       [0.00499731, 0.9950027 ],\n",
       "       [0.97132736, 0.02867266],\n",
       "       [0.9561198 , 0.04388021],\n",
       "       [0.9638285 , 0.03617151],\n",
       "       [0.906718  , 0.09328198],\n",
       "       [0.8921617 , 0.1078383 ],\n",
       "       [0.84253055, 0.15746947],\n",
       "       [0.6891166 , 0.3108834 ],\n",
       "       [0.93080133, 0.06919869],\n",
       "       [0.03040773, 0.9695923 ],\n",
       "       [0.9684749 , 0.03152505],\n",
       "       [0.49320114, 0.50679886],\n",
       "       [0.14466709, 0.8553329 ],\n",
       "       [0.03533268, 0.9646673 ],\n",
       "       [0.9562037 , 0.04379629],\n",
       "       [0.37961537, 0.62038463],\n",
       "       [0.03776544, 0.96223456],\n",
       "       [0.13460737, 0.8653926 ],\n",
       "       [0.95203674, 0.04796323],\n",
       "       [0.05774438, 0.9422556 ],\n",
       "       [0.9589965 , 0.04100352],\n",
       "       [0.68886787, 0.31113213],\n",
       "       [0.2589686 , 0.7410314 ],\n",
       "       [0.06682032, 0.9331797 ],\n",
       "       [0.9405723 , 0.05942769],\n",
       "       [0.97486347, 0.02513652],\n",
       "       [0.28547323, 0.7145268 ],\n",
       "       [0.9562037 , 0.04379629],\n",
       "       [0.9131147 , 0.08688527],\n",
       "       [0.6576288 , 0.34237126],\n",
       "       [0.9415602 , 0.05843977],\n",
       "       [0.98434687, 0.01565314],\n",
       "       [0.97999007, 0.02000994],\n",
       "       [0.9649742 , 0.03502577],\n",
       "       [0.06760311, 0.9323969 ],\n",
       "       [0.03304291, 0.9669571 ],\n",
       "       [0.96718144, 0.03281853],\n",
       "       [0.7177391 , 0.28226092],\n",
       "       [0.00829315, 0.99170685],\n",
       "       [0.93266106, 0.06733892],\n",
       "       [0.9562037 , 0.04379629],\n",
       "       [0.76767576, 0.23232426],\n",
       "       [0.0421434 , 0.9578566 ],\n",
       "       [0.6101842 , 0.3898158 ],\n",
       "       [0.37243563, 0.6275644 ],\n",
       "       [0.9890217 , 0.01097829],\n",
       "       [0.74073493, 0.2592651 ],\n",
       "       [0.98527104, 0.01472899],\n",
       "       [0.36213553, 0.6378645 ],\n",
       "       [0.8549676 , 0.14503244],\n",
       "       [0.84273505, 0.15726498],\n",
       "       [0.4961233 , 0.5038767 ],\n",
       "       [0.9918978 , 0.00810219],\n",
       "       [0.9811682 , 0.01883181],\n",
       "       [0.94837934, 0.05162066],\n",
       "       [0.8762105 , 0.12378947],\n",
       "       [0.5823519 , 0.41764808],\n",
       "       [0.12051058, 0.8794894 ],\n",
       "       [0.59402686, 0.40597314],\n",
       "       [0.99502754, 0.00497249],\n",
       "       [0.01452208, 0.9854779 ],\n",
       "       [0.7332586 , 0.26674142],\n",
       "       [0.93736494, 0.06263509],\n",
       "       [0.14575213, 0.85424787],\n",
       "       [0.13878673, 0.86121327],\n",
       "       [0.02266818, 0.9773318 ],\n",
       "       [0.05765069, 0.9423493 ],\n",
       "       [0.97561705, 0.02438297],\n",
       "       [0.90497655, 0.09502345],\n",
       "       [0.9066366 , 0.09336338],\n",
       "       [0.21629   , 0.78371   ],\n",
       "       [0.9562037 , 0.04379629],\n",
       "       [0.84516585, 0.15483415],\n",
       "       [0.95126367, 0.0487363 ],\n",
       "       [0.08783287, 0.91216713],\n",
       "       [0.20911437, 0.7908856 ],\n",
       "       [0.9562037 , 0.04379629],\n",
       "       [0.9363527 , 0.06364726],\n",
       "       [0.0052188 , 0.9947812 ],\n",
       "       [0.68886787, 0.31113213],\n",
       "       [0.9586508 , 0.04134918],\n",
       "       [0.6497147 , 0.35028532],\n",
       "       [0.10595906, 0.89404094],\n",
       "       [0.7560618 , 0.24393822],\n",
       "       [0.41949767, 0.58050233],\n",
       "       [0.8482884 , 0.15171161],\n",
       "       [0.02663946, 0.97336054],\n",
       "       [0.9073301 , 0.0926699 ],\n",
       "       [0.8634438 , 0.1365562 ],\n",
       "       [0.91266096, 0.08733907],\n",
       "       [0.22166586, 0.77833414],\n",
       "       [0.11619896, 0.88380104],\n",
       "       [0.85656214, 0.14343789],\n",
       "       [0.9415602 , 0.05843977],\n",
       "       [0.8344275 , 0.1655725 ],\n",
       "       [0.91606337, 0.08393663],\n",
       "       [0.9429869 , 0.05701309],\n",
       "       [0.73834276, 0.2616572 ],\n",
       "       [0.9562037 , 0.04379629],\n",
       "       [0.9390217 , 0.06097832],\n",
       "       [0.14466709, 0.8553329 ],\n",
       "       [0.35633606, 0.64366394],\n",
       "       [0.7005116 , 0.2994884 ],\n",
       "       [0.97166735, 0.02833267],\n",
       "       [0.95531464, 0.04468535],\n",
       "       [0.59220165, 0.40779835],\n",
       "       [0.8968662 , 0.10313378],\n",
       "       [0.02593488, 0.9740651 ],\n",
       "       [0.0565269 , 0.9434731 ],\n",
       "       [0.930823  , 0.06917695],\n",
       "       [0.33834213, 0.66165787],\n",
       "       [0.60171294, 0.39828703],\n",
       "       [0.9589103 , 0.04108969],\n",
       "       [0.16862243, 0.83137757],\n",
       "       [0.7133389 , 0.2866611 ],\n",
       "       [0.9306256 , 0.0693744 ],\n",
       "       [0.5011473 , 0.49885276],\n",
       "       [0.9727066 , 0.02729338],\n",
       "       [0.98897296, 0.01102703],\n",
       "       [0.2542358 , 0.7457642 ],\n",
       "       [0.15687865, 0.84312135],\n",
       "       [0.953038  , 0.046962  ],\n",
       "       [0.02390051, 0.9760995 ],\n",
       "       [0.7201226 , 0.27987745],\n",
       "       [0.14466709, 0.8553329 ],\n",
       "       [0.3264978 , 0.6735022 ],\n",
       "       [0.9562037 , 0.04379629],\n",
       "       [0.09773314, 0.90226686],\n",
       "       [0.94837934, 0.05162066],\n",
       "       [0.9560213 , 0.04397871],\n",
       "       [0.98430455, 0.01569548],\n",
       "       [0.9308707 , 0.06912928],\n",
       "       [0.01500714, 0.98499286],\n",
       "       [0.89194083, 0.10805919],\n",
       "       [0.9641251 , 0.0358749 ],\n",
       "       [0.8288914 , 0.17110862],\n",
       "       [0.06162763, 0.9383724 ],\n",
       "       [0.50724244, 0.49275756],\n",
       "       [0.9196682 , 0.0803318 ],\n",
       "       [0.13448226, 0.86551774],\n",
       "       [0.49924695, 0.50075305],\n",
       "       [0.92636865, 0.07363134],\n",
       "       [0.11551058, 0.8844894 ],\n",
       "       [0.9757759 , 0.02422409],\n",
       "       [0.03422552, 0.9657745 ],\n",
       "       [0.991753  , 0.00824703],\n",
       "       [0.12814844, 0.87185156],\n",
       "       [0.03623044, 0.96376956],\n",
       "       [0.9284992 , 0.07150079],\n",
       "       [0.6473952 , 0.3526048 ],\n",
       "       [0.9313179 , 0.0686821 ],\n",
       "       [0.11139321, 0.8886068 ],\n",
       "       [0.87297267, 0.12702733],\n",
       "       [0.2336111 , 0.7663889 ],\n",
       "       [0.96871   , 0.03128998],\n",
       "       [0.7901263 , 0.20987366],\n",
       "       [0.9453231 , 0.05467686],\n",
       "       [0.09886295, 0.90113705],\n",
       "       [0.30727398, 0.692726  ],\n",
       "       [0.21129948, 0.7887005 ],\n",
       "       [0.82351816, 0.17648186],\n",
       "       [0.9363527 , 0.06364726],\n",
       "       [0.04422152, 0.9557785 ],\n",
       "       [0.9776053 , 0.02239473],\n",
       "       [0.00360507, 0.99639493],\n",
       "       [0.8406847 , 0.15931527],\n",
       "       [0.8500229 , 0.14997712],\n",
       "       [0.9929081 , 0.00709187],\n",
       "       [0.98434687, 0.01565314],\n",
       "       [0.4732921 , 0.5267079 ],\n",
       "       [0.4622147 , 0.5377853 ],\n",
       "       [0.0223226 , 0.9776774 ],\n",
       "       [0.8944816 , 0.10551839],\n",
       "       [0.13800079, 0.8619992 ],\n",
       "       [0.04630977, 0.95369023],\n",
       "       [0.85278225, 0.14721774],\n",
       "       [0.9932477 , 0.0067523 ],\n",
       "       [0.98434687, 0.01565314],\n",
       "       [0.87966454, 0.12033546],\n",
       "       [0.9363527 , 0.06364726],\n",
       "       [0.29903436, 0.70096564],\n",
       "       [0.9562037 , 0.04379629],\n",
       "       [0.9684749 , 0.03152505],\n",
       "       [0.76885504, 0.23114498],\n",
       "       [0.15553361, 0.8444664 ],\n",
       "       [0.20940852, 0.7905915 ],\n",
       "       [0.94958055, 0.05041948],\n",
       "       [0.98434687, 0.01565314],\n",
       "       [0.9363527 , 0.06364726],\n",
       "       [0.5936992 , 0.40630078],\n",
       "       [0.907144  , 0.09285598],\n",
       "       [0.9862233 , 0.01377673],\n",
       "       [0.51943237, 0.48056763],\n",
       "       [0.048877  , 0.951123  ],\n",
       "       [0.98076415, 0.01923584],\n",
       "       [0.982802  , 0.01719802],\n",
       "       [0.14466709, 0.8553329 ],\n",
       "       [0.9839968 , 0.01600321],\n",
       "       [0.04445708, 0.9555429 ],\n",
       "       [0.36520964, 0.63479036],\n",
       "       [0.14466709, 0.8553329 ],\n",
       "       [0.9086122 , 0.09138782],\n",
       "       [0.93538886, 0.06461113],\n",
       "       [0.43178988, 0.5682101 ],\n",
       "       [0.2609462 , 0.7390538 ],\n",
       "       [0.84253055, 0.15746947],\n",
       "       [0.9708477 , 0.02915228],\n",
       "       [0.32675797, 0.67324203],\n",
       "       [0.9699105 , 0.03008947],\n",
       "       [0.95861924, 0.04138079],\n",
       "       [0.9876135 , 0.01238651],\n",
       "       [0.98412865, 0.01587134],\n",
       "       [0.9945153 , 0.0054847 ],\n",
       "       [0.02435881, 0.9756412 ],\n",
       "       [0.24200946, 0.75799054],\n",
       "       [0.95030665, 0.04969335],\n",
       "       [0.10578156, 0.89421844],\n",
       "       [0.9396801 , 0.0603199 ],\n",
       "       [0.96837366, 0.03162633],\n",
       "       [0.96332026, 0.03667972],\n",
       "       [0.99551773, 0.00448226],\n",
       "       [0.9271615 , 0.07283849],\n",
       "       [0.969827  , 0.03017303],\n",
       "       [0.93730396, 0.06269603],\n",
       "       [0.9707223 , 0.02927766],\n",
       "       [0.80676746, 0.19323257],\n",
       "       [0.75177896, 0.24822107],\n",
       "       [0.6323199 , 0.3676801 ],\n",
       "       [0.99059886, 0.00940116],\n",
       "       [0.00365347, 0.99634653],\n",
       "       [0.84015757, 0.15984245],\n",
       "       [0.91061807, 0.0893819 ],\n",
       "       [0.16650033, 0.83349967],\n",
       "       [0.01126111, 0.9887389 ],\n",
       "       [0.9608135 , 0.0391865 ],\n",
       "       [0.8901269 , 0.10987313],\n",
       "       [0.4120437 , 0.5879563 ],\n",
       "       [0.96842474, 0.03157527],\n",
       "       [0.5376587 , 0.4623413 ],\n",
       "       [0.8569274 , 0.1430726 ],\n",
       "       [0.96332026, 0.03667972],\n",
       "       [0.9489962 , 0.05100382],\n",
       "       [0.45733148, 0.5426685 ],\n",
       "       [0.31538874, 0.68461126],\n",
       "       [0.9196682 , 0.0803318 ],\n",
       "       [0.9919779 , 0.00802212],\n",
       "       [0.8804981 , 0.11950191],\n",
       "       [0.8848104 , 0.11518959],\n",
       "       [0.78837144, 0.21162857],\n",
       "       [0.04037982, 0.9596202 ],\n",
       "       [0.98379517, 0.01620483],\n",
       "       [0.9562037 , 0.04379629],\n",
       "       [0.957795  , 0.04220499],\n",
       "       [0.78732455, 0.21267547],\n",
       "       [0.20523477, 0.79476523],\n",
       "       [0.90497655, 0.09502345],\n",
       "       [0.05924743, 0.94075257],\n",
       "       [0.9189326 , 0.08106741],\n",
       "       [0.04533339, 0.9546666 ],\n",
       "       [0.9880756 , 0.01192438],\n",
       "       [0.2619481 , 0.7380519 ],\n",
       "       [0.5829877 , 0.41701227],\n",
       "       [0.14988524, 0.85011476],\n",
       "       [0.0308091 , 0.9691909 ],\n",
       "       [0.98397464, 0.01602534],\n",
       "       [0.04998022, 0.9500198 ],\n",
       "       [0.98434687, 0.01565314],\n",
       "       [0.03103459, 0.9689654 ],\n",
       "       [0.99659085, 0.00340912],\n",
       "       [0.27016753, 0.7298325 ],\n",
       "       [0.60772014, 0.39227986],\n",
       "       [0.68575156, 0.31424844],\n",
       "       [0.9140994 , 0.08590062],\n",
       "       [0.9894151 , 0.01058488],\n",
       "       [0.9435054 , 0.05649459],\n",
       "       [0.8783004 , 0.12169954],\n",
       "       [0.01385438, 0.9861456 ],\n",
       "       [0.9453231 , 0.05467686],\n",
       "       [0.9245142 , 0.07548583],\n",
       "       [0.1403938 , 0.8596062 ],\n",
       "       [0.637382  , 0.36261803],\n",
       "       [0.46991378, 0.5300862 ],\n",
       "       [0.7258687 , 0.2741313 ],\n",
       "       [0.940982  , 0.05901805],\n",
       "       [0.02597255, 0.97402745],\n",
       "       [0.06855267, 0.9314473 ],\n",
       "       [0.3676771 , 0.6323229 ]], dtype=float32)"
      ]
     },
     "execution_count": 73,
     "metadata": {},
     "output_type": "execute_result"
    }
   ],
   "source": [
    "base_estimators[0].predict_proba(X_test)"
   ]
  },
  {
   "cell_type": "code",
   "execution_count": 74,
   "metadata": {},
   "outputs": [],
   "source": [
    "meta_train_set = np.array([estimator.predict(X_test) for estimator in base_estimators]).T"
   ]
  },
  {
   "cell_type": "code",
   "execution_count": 75,
   "metadata": {},
   "outputs": [
    {
     "data": {
      "text/plain": [
       "array([[0., 0., 0., 0., 0.],\n",
       "       [1., 1., 1., 1., 1.],\n",
       "       [1., 1., 1., 1., 1.],\n",
       "       ...,\n",
       "       [1., 1., 1., 1., 1.],\n",
       "       [1., 1., 0., 0., 1.],\n",
       "       [1., 1., 1., 1., 1.]])"
      ]
     },
     "execution_count": 75,
     "metadata": {},
     "output_type": "execute_result"
    }
   ],
   "source": [
    "meta_train_set #레이블"
   ]
  },
  {
   "cell_type": "code",
   "execution_count": 76,
   "metadata": {},
   "outputs": [],
   "source": [
    "from sklearn.model_selection import cross_val_score"
   ]
  },
  {
   "cell_type": "code",
   "execution_count": 77,
   "metadata": {},
   "outputs": [
    {
     "name": "stdout",
     "output_type": "stream",
     "text": [
      "0.8259780907668232\n",
      "0.8343896713615024\n",
      "0.8259780907668232\n",
      "0.8372065727699531\n",
      "0.8259780907668232\n"
     ]
    }
   ],
   "source": [
    "for estimator in base_estimators:\n",
    "    result = cross_val_score(estimator, meta_train_set, y_test, scoring=\"accuracy\" , cv=5).mean()\n",
    "    print(result)"
   ]
  },
  {
   "cell_type": "code",
   "execution_count": 78,
   "metadata": {},
   "outputs": [],
   "source": [
    "meta_train_set2 = np.array([estimator.predict_proba(X_test)[:,1] for estimator in base_estimators]).T"
   ]
  },
  {
   "cell_type": "code",
   "execution_count": 79,
   "metadata": {},
   "outputs": [
    {
     "data": {
      "text/plain": [
       "array([[0.26674142, 0.18535585, 0.14068997, 0.15268261, 0.09296822],\n",
       "       [0.90029621, 0.78001366, 0.58242612, 0.72990082, 0.6966851 ],\n",
       "       [0.99457777, 0.99133981, 0.75759509, 0.78628824, 0.99999751],\n",
       "       ...,\n",
       "       [0.97402745, 0.98608408, 0.83816468, 0.77666348, 1.        ],\n",
       "       [0.93144733, 0.77312784, 0.38093526, 0.18137743, 0.99799723],\n",
       "       [0.63232291, 0.74981556, 0.65182915, 0.7688062 , 0.93438148]])"
      ]
     },
     "execution_count": 79,
     "metadata": {},
     "output_type": "execute_result"
    }
   ],
   "source": [
    "meta_train_set2 #확률값"
   ]
  },
  {
   "cell_type": "code",
   "execution_count": 80,
   "metadata": {},
   "outputs": [
    {
     "name": "stdout",
     "output_type": "stream",
     "text": [
      "0.8062597809076684\n",
      "0.8202660406885759\n",
      "0.828794992175274\n",
      "0.8287167449139279\n",
      "0.8231220657276996\n"
     ]
    }
   ],
   "source": [
    "for estimator in base_estimators:\n",
    "    result = cross_val_score(estimator, meta_train_set2, y_test, scoring=\"accuracy\" , cv=5).mean()\n",
    "    print(result)"
   ]
  },
  {
   "cell_type": "code",
   "execution_count": 81,
   "metadata": {},
   "outputs": [
    {
     "data": {
      "text/plain": [
       "(356, 32)"
      ]
     },
     "execution_count": 81,
     "metadata": {},
     "output_type": "execute_result"
    }
   ],
   "source": [
    "new_X_test = np.concatenate([X_test, meta_train_set2], axis = 1)\n",
    "new_X_test.shape"
   ]
  },
  {
   "cell_type": "code",
   "execution_count": 82,
   "metadata": {},
   "outputs": [
    {
     "name": "stdout",
     "output_type": "stream",
     "text": [
      "0.8145931142410016\n",
      "0.820226917057903\n",
      "0.8259389671361502\n",
      "0.8343114241001566\n",
      "0.8034428794992176\n"
     ]
    }
   ],
   "source": [
    "for estimator in base_estimators:\n",
    "    result = cross_val_score(estimator, new_X_test, y_test, scoring=\"accuracy\" , cv=5).mean()\n",
    "    print(result)"
   ]
  },
  {
   "cell_type": "code",
   "execution_count": 83,
   "metadata": {},
   "outputs": [],
   "source": [
    "## Ref\n",
    "## 투빅스 10기 이준걸님 실습안"
   ]
  }
 ],
 "metadata": {
  "kernelspec": {
   "display_name": "Python 3",
   "language": "python",
   "name": "python3"
  },
  "language_info": {
   "codemirror_mode": {
    "name": "ipython",
    "version": 3
   },
   "file_extension": ".py",
   "mimetype": "text/x-python",
   "name": "python",
   "nbconvert_exporter": "python",
   "pygments_lexer": "ipython3",
   "version": "3.7.1"
  }
 },
 "nbformat": 4,
 "nbformat_minor": 2
}
